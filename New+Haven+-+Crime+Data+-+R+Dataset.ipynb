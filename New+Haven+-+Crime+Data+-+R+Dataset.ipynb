{
 "cells": [
  {
   "cell_type": "code",
   "execution_count": 1,
   "metadata": {
    "collapsed": false
   },
   "outputs": [
    {
     "name": "stderr",
     "output_type": "stream",
     "text": [
      "Loading required package: GISTools\n",
      "Loading required package: maptools\n",
      "Loading required package: sp\n",
      "Checking rgeos availability: TRUE\n",
      "Loading required package: RColorBrewer\n",
      "Loading required package: MASS\n",
      "Loading required package: rgeos\n",
      "rgeos version: 0.3-21, (SVN revision 540)\n",
      " GEOS runtime version: 3.5.0-CAPI-1.9.0 r4084 \n",
      " Linking to sp version: 1.2-4 \n",
      " Polygon checking: TRUE \n",
      "\n"
     ]
    },
    {
     "data": {
      "text/html": [
       "<ol class=list-inline>\n",
       "\t<li>'blocks'</li>\n",
       "\t<li>'breach'</li>\n",
       "\t<li>'burgres.f'</li>\n",
       "\t<li>'burgres.n'</li>\n",
       "\t<li>'famdisp'</li>\n",
       "\t<li>'places'</li>\n",
       "\t<li>'roads'</li>\n",
       "\t<li>'tracts'</li>\n",
       "</ol>\n"
      ],
      "text/latex": [
       "\\begin{enumerate*}\n",
       "\\item 'blocks'\n",
       "\\item 'breach'\n",
       "\\item 'burgres.f'\n",
       "\\item 'burgres.n'\n",
       "\\item 'famdisp'\n",
       "\\item 'places'\n",
       "\\item 'roads'\n",
       "\\item 'tracts'\n",
       "\\end{enumerate*}\n"
      ],
      "text/markdown": [
       "1. 'blocks'\n",
       "2. 'breach'\n",
       "3. 'burgres.f'\n",
       "4. 'burgres.n'\n",
       "5. 'famdisp'\n",
       "6. 'places'\n",
       "7. 'roads'\n",
       "8. 'tracts'\n",
       "\n",
       "\n"
      ],
      "text/plain": [
       "[1] \"blocks\"    \"breach\"    \"burgres.f\" \"burgres.n\" \"famdisp\"   \"places\"   \n",
       "[7] \"roads\"     \"tracts\"   "
      ]
     },
     "metadata": {},
     "output_type": "display_data"
    }
   ],
   "source": [
    "require(GISTools)\n",
    "data(newhaven)\n",
    "ls()"
   ]
  },
  {
   "cell_type": "code",
   "execution_count": 3,
   "metadata": {
    "collapsed": false
   },
   "outputs": [
    {
     "data": {
      "text/html": [
       "'SpatialPoints'"
      ],
      "text/latex": [
       "'SpatialPoints'"
      ],
      "text/markdown": [
       "'SpatialPoints'"
      ],
      "text/plain": [
       "[1] \"SpatialPoints\"\n",
       "attr(,\"package\")\n",
       "[1] \"sp\""
      ]
     },
     "metadata": {},
     "output_type": "display_data"
    }
   ],
   "source": [
    "class(breach)"
   ]
  },
  {
   "cell_type": "code",
   "execution_count": 4,
   "metadata": {
    "collapsed": false
   },
   "outputs": [
    {
     "data": {
      "text/plain": [
       "Object of class SpatialPoints\n",
       "Coordinates:\n",
       "          min      max\n",
       "Long 536895.7 569227.2\n",
       "Lat  163291.0 186172.3\n",
       "Is projected: TRUE \n",
       "proj4string :\n",
       "[+proj=lcc +datum=NAD27 +lon_0=-72d45 +lat_1=41d52 +lat_2=41d12\n",
       "+lat_0=40d50 +x_0=182880.3657607315 +y_0=0 +units=us-ft +no_defs\n",
       "+ellps=clrk66 +nadgrids=@conus,@alaska,@ntv2_0.gsb,@ntv1_can.dat]\n",
       "Number of points: 180"
      ]
     },
     "metadata": {},
     "output_type": "display_data"
    }
   ],
   "source": [
    "summary(breach)"
   ]
  },
  {
   "cell_type": "code",
   "execution_count": 5,
   "metadata": {
    "collapsed": false
   },
   "outputs": [
    {
     "data": {
      "text/html": [
       "'SpatialPolygonsDataFrame'"
      ],
      "text/latex": [
       "'SpatialPolygonsDataFrame'"
      ],
      "text/markdown": [
       "'SpatialPolygonsDataFrame'"
      ],
      "text/plain": [
       "[1] \"SpatialPolygonsDataFrame\"\n",
       "attr(,\"package\")\n",
       "[1] \"sp\""
      ]
     },
     "metadata": {},
     "output_type": "display_data"
    }
   ],
   "source": [
    "class(blocks)"
   ]
  },
  {
   "cell_type": "code",
   "execution_count": 6,
   "metadata": {
    "collapsed": false
   },
   "outputs": [
    {
     "data": {
      "text/plain": [
       "Object of class SpatialPolygonsDataFrame\n",
       "Coordinates:\n",
       "        min      max\n",
       "r1 531731.9 569625.3\n",
       "r2 147854.0 188464.6\n",
       "Is projected: TRUE \n",
       "proj4string :\n",
       "[+proj=lcc +datum=NAD27 +lon_0=-72d45 +lat_1=41d52 +lat_2=41d12\n",
       "+lat_0=40d50 +x_0=182880.3657607315 +y_0=0 +units=us-ft +no_defs\n",
       "+ellps=clrk66 +nadgrids=@conus,@alaska,@ntv2_0.gsb,@ntv1_can.dat]\n",
       "Data attributes:\n",
       "   NEWH075H_        NEWH075H_I    HSE_UNITS         OCCUPIED        VACANT     \n",
       " Min.   :  2.00   Min.   : 24   Min.   :   0.0   Min.   :   0   Min.   :  0.0  \n",
       " 1st Qu.: 34.00   1st Qu.: 56   1st Qu.: 316.0   1st Qu.: 289   1st Qu.: 22.0  \n",
       " Median : 66.00   Median : 88   Median : 410.0   Median : 382   Median : 35.0  \n",
       " Mean   : 66.02   Mean   : 88   Mean   : 419.4   Mean   : 380   Mean   : 39.4  \n",
       " 3rd Qu.: 98.00   3rd Qu.:120   3rd Qu.: 498.0   3rd Qu.: 457   3rd Qu.: 51.0  \n",
       " Max.   :131.00   Max.   :152   Max.   :1557.0   Max.   :1506   Max.   :129.0  \n",
       "    P_VACANT        P_OWNEROCC      P_RENTROCC      NEWH075P_     NEWH075P_I   \n",
       " Min.   : 0.000   Min.   : 0.00   Min.   : 0.00   Min.   :  2   Min.   :380.0  \n",
       " 1st Qu.: 5.882   1st Qu.:15.36   1st Qu.:51.65   1st Qu.: 34   1st Qu.:445.0  \n",
       " Median : 8.678   Median :26.24   Median :62.72   Median : 66   Median :486.0  \n",
       " Mean   : 9.798   Mean   :29.17   Mean   :59.48   Mean   : 66   Mean   :487.4  \n",
       " 3rd Qu.:11.644   3rd Qu.:35.51   3rd Qu.:72.73   3rd Qu.: 98   3rd Qu.:526.0  \n",
       " Max.   :37.931   Max.   :91.67   Max.   :94.67   Max.   :130   Max.   :655.0  \n",
       "    POP1990        P_MALES        P_FEMALES        P_WHITE     \n",
       " Min.   :   0   Min.   : 0.00   Min.   : 0.00   Min.   : 0.00  \n",
       " 1st Qu.: 711   1st Qu.:44.97   1st Qu.:50.67   1st Qu.:26.07  \n",
       " Median : 925   Median :47.02   Median :52.87   Median :63.47  \n",
       " Mean   :1012   Mean   :46.59   Mean   :51.86   Mean   :54.92  \n",
       " 3rd Qu.:1222   3rd Qu.:49.11   3rd Qu.:54.81   3rd Qu.:82.91  \n",
       " Max.   :4866   Max.   :63.29   Max.   :72.22   Max.   :99.42  \n",
       "    P_BLACK         P_AMERI_ES        P_ASIAN_PI        P_OTHER      \n",
       " Min.   : 0.000   Min.   :0.00000   Min.   : 0.000   Min.   : 0.000  \n",
       " 1st Qu.: 8.806   1st Qu.:0.08881   1st Qu.: 0.292   1st Qu.: 1.271  \n",
       " Median :24.021   Median :0.25974   Median : 1.150   Median : 2.897  \n",
       " Mean   :34.223   Mean   :0.30044   Mean   : 2.256   Mean   : 6.752  \n",
       " 3rd Qu.:56.297   3rd Qu.:0.42553   3rd Qu.: 2.253   3rd Qu.: 7.174  \n",
       " Max.   :96.201   Max.   :1.19157   Max.   :18.077   Max.   :37.562  \n",
       "    P_UNDER5          P_5_13          P_14_17         P_18_24      \n",
       " Min.   : 0.000   Min.   : 0.000   Min.   :0.000   Min.   : 0.000  \n",
       " 1st Qu.: 5.390   1st Qu.: 7.051   1st Qu.:2.495   1st Qu.: 9.464  \n",
       " Median : 7.938   Median :10.532   Median :3.978   Median :11.524  \n",
       " Mean   : 7.759   Mean   :11.133   Mean   :4.155   Mean   :13.498  \n",
       " 3rd Qu.:10.327   3rd Qu.:15.676   3rd Qu.:5.654   3rd Qu.:13.623  \n",
       " Max.   :15.686   Max.   :24.708   Max.   :9.804   Max.   :94.657  \n",
       "    P_25_34         P_35_44         P_45_54          P_55_64      \n",
       " Min.   : 0.00   Min.   : 0.00   Min.   : 0.000   Min.   : 0.000  \n",
       " 1st Qu.:16.96   1st Qu.:11.90   1st Qu.: 6.795   1st Qu.: 4.964  \n",
       " Median :19.56   Median :13.58   Median : 8.063   Median : 6.135  \n",
       " Mean   :21.77   Mean   :13.46   Mean   : 7.979   Mean   : 6.559  \n",
       " 3rd Qu.:26.55   3rd Qu.:15.45   3rd Qu.: 9.411   3rd Qu.: 8.119  \n",
       " Max.   :45.39   Max.   :21.82   Max.   :13.718   Max.   :14.356  \n",
       "    P_65_74          P_75_UP      \n",
       " Min.   : 0.000   Min.   : 0.000  \n",
       " 1st Qu.: 3.832   1st Qu.: 2.647  \n",
       " Median : 5.794   Median : 4.541  \n",
       " Mean   : 6.474   Mean   : 5.665  \n",
       " 3rd Qu.: 7.980   3rd Qu.: 6.823  \n",
       " Max.   :27.679   Max.   :40.659  "
      ]
     },
     "metadata": {},
     "output_type": "display_data"
    }
   ],
   "source": [
    "summary(blocks)"
   ]
  },
  {
   "cell_type": "code",
   "execution_count": 7,
   "metadata": {
    "collapsed": false
   },
   "outputs": [
    {
     "data": {
      "image/png": "[encoded data removed]",
      "text/plain": [
       "plot without title"
      ]
     },
     "metadata": {},
     "output_type": "display_data"
    }
   ],
   "source": [
    "par(mar = c(0.7,0.7,0.7,0.7))\n",
    "plot(blocks)\n",
    "plot(breach, col = 'red', pch = 1, add = TRUE)"
   ]
  },
  {
   "cell_type": "code",
   "execution_count": null,
   "metadata": {
    "collapsed": true
   },
   "outputs": [],
   "source": []
  }
 ],
 "metadata": {
  "anaconda-cloud": {},
  "kernelspec": {
   "display_name": "R",
   "language": "R",
   "name": "ir"
  },
  "language_info": {
   "codemirror_mode": "r",
   "file_extension": ".r",
   "mimetype": "text/x-r-source",
   "name": "R",
   "pygments_lexer": "r",
   "version": "3.3.2"
  }
 },
 "nbformat": 4,
 "nbformat_minor": 1
}
